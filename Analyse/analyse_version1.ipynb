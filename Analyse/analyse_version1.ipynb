{
 "cells": [
  {
   "cell_type": "code",
   "execution_count": 2,
   "metadata": {},
   "outputs": [],
   "source": [
    "import pandas as pd\n",
    "import numpy as np\n",
    "import seaborn as sns\n",
    "from matplotlib import pyplot as plt\n",
    "import nltk, gensim, os, re, warnings\n",
    "import string, sys\n",
    "from nltk.tokenize import word_tokenize\n",
    "from nltk.stem import WordNetLemmatizer, PorterStemmer, SnowballStemmer, LancasterStemmer\n",
    "from nltk.corpus import stopwords\n",
    "from gensim.models import Word2Vec\n",
    "from nltk.sentiment import SentimentAnalyzer, SentimentIntensityAnalyzer\n",
    "from sklearn.linear_model import LogisticRegression\n",
    "from sklearn.feature_extraction.text import CountVectorizer, TfidfVectorizer\n",
    "from sklearn.naive_bayes import BernoulliNB, GaussianNB, MultinomialNB\n",
    "from sklearn.metrics import classification_report, precision_score, recall_score\n",
    "from sklearn.model_selection import train_test_split, GridSearchCV, RandomizedSearchCV, cross_val_score\n",
    "warnings.filterwarnings('ignore')"
   ]
  },
  {
   "cell_type": "code",
   "execution_count": 3,
   "metadata": {},
   "outputs": [],
   "source": [
    "df_en = pd.read_csv('../data/raw/en_train.csv')\n",
    "df_fr = pd.read_csv('../data/raw/fr_train.csv')"
   ]
  },
  {
   "cell_type": "code",
   "execution_count": 4,
   "metadata": {},
   "outputs": [
    {
     "data": {
      "text/html": [
       "<div>\n",
       "<style scoped>\n",
       "    .dataframe tbody tr th:only-of-type {\n",
       "        vertical-align: middle;\n",
       "    }\n",
       "\n",
       "    .dataframe tbody tr th {\n",
       "        vertical-align: top;\n",
       "    }\n",
       "\n",
       "    .dataframe thead th {\n",
       "        text-align: right;\n",
       "    }\n",
       "</style>\n",
       "<table border=\"1\" class=\"dataframe\">\n",
       "  <thead>\n",
       "    <tr style=\"text-align: right;\">\n",
       "      <th></th>\n",
       "      <th>review_id</th>\n",
       "      <th>product_id</th>\n",
       "      <th>reviewer_id</th>\n",
       "      <th>stars</th>\n",
       "      <th>review_body</th>\n",
       "      <th>review_title</th>\n",
       "      <th>language</th>\n",
       "      <th>product_category</th>\n",
       "    </tr>\n",
       "  </thead>\n",
       "  <tbody>\n",
       "    <tr>\n",
       "      <th>0</th>\n",
       "      <td>en_0964290</td>\n",
       "      <td>product_en_0740675</td>\n",
       "      <td>reviewer_en_0342986</td>\n",
       "      <td>1</td>\n",
       "      <td>Arrived broken. Manufacturer defect. Two of th...</td>\n",
       "      <td>I'll spend twice the amount of time boxing up ...</td>\n",
       "      <td>en</td>\n",
       "      <td>furniture</td>\n",
       "    </tr>\n",
       "    <tr>\n",
       "      <th>1</th>\n",
       "      <td>en_0690095</td>\n",
       "      <td>product_en_0440378</td>\n",
       "      <td>reviewer_en_0133349</td>\n",
       "      <td>1</td>\n",
       "      <td>the cabinet dot were all detached from backing...</td>\n",
       "      <td>Not use able</td>\n",
       "      <td>en</td>\n",
       "      <td>home_improvement</td>\n",
       "    </tr>\n",
       "    <tr>\n",
       "      <th>2</th>\n",
       "      <td>en_0311558</td>\n",
       "      <td>product_en_0399702</td>\n",
       "      <td>reviewer_en_0152034</td>\n",
       "      <td>1</td>\n",
       "      <td>I received my first order of this product and ...</td>\n",
       "      <td>The product is junk.</td>\n",
       "      <td>en</td>\n",
       "      <td>home</td>\n",
       "    </tr>\n",
       "    <tr>\n",
       "      <th>3</th>\n",
       "      <td>en_0044972</td>\n",
       "      <td>product_en_0444063</td>\n",
       "      <td>reviewer_en_0656967</td>\n",
       "      <td>1</td>\n",
       "      <td>This product is a piece of shit. Do not buy. D...</td>\n",
       "      <td>Fucking waste of money</td>\n",
       "      <td>en</td>\n",
       "      <td>wireless</td>\n",
       "    </tr>\n",
       "    <tr>\n",
       "      <th>4</th>\n",
       "      <td>en_0784379</td>\n",
       "      <td>product_en_0139353</td>\n",
       "      <td>reviewer_en_0757638</td>\n",
       "      <td>1</td>\n",
       "      <td>went through 3 in one day doesn't fit correct ...</td>\n",
       "      <td>bubble</td>\n",
       "      <td>en</td>\n",
       "      <td>pc</td>\n",
       "    </tr>\n",
       "  </tbody>\n",
       "</table>\n",
       "</div>"
      ],
      "text/plain": [
       "    review_id          product_id          reviewer_id  stars  \\\n",
       "0  en_0964290  product_en_0740675  reviewer_en_0342986      1   \n",
       "1  en_0690095  product_en_0440378  reviewer_en_0133349      1   \n",
       "2  en_0311558  product_en_0399702  reviewer_en_0152034      1   \n",
       "3  en_0044972  product_en_0444063  reviewer_en_0656967      1   \n",
       "4  en_0784379  product_en_0139353  reviewer_en_0757638      1   \n",
       "\n",
       "                                         review_body  \\\n",
       "0  Arrived broken. Manufacturer defect. Two of th...   \n",
       "1  the cabinet dot were all detached from backing...   \n",
       "2  I received my first order of this product and ...   \n",
       "3  This product is a piece of shit. Do not buy. D...   \n",
       "4  went through 3 in one day doesn't fit correct ...   \n",
       "\n",
       "                                        review_title language  \\\n",
       "0  I'll spend twice the amount of time boxing up ...       en   \n",
       "1                                       Not use able       en   \n",
       "2                               The product is junk.       en   \n",
       "3                             Fucking waste of money       en   \n",
       "4                                             bubble       en   \n",
       "\n",
       "   product_category  \n",
       "0         furniture  \n",
       "1  home_improvement  \n",
       "2              home  \n",
       "3          wireless  \n",
       "4                pc  "
      ]
     },
     "execution_count": 4,
     "metadata": {},
     "output_type": "execute_result"
    }
   ],
   "source": [
    "df_en.head(5)"
   ]
  },
  {
   "cell_type": "code",
   "execution_count": 5,
   "metadata": {},
   "outputs": [
    {
     "name": "stdout",
     "output_type": "stream",
     "text": [
      "The types of data is : review_id           object\n",
      "product_id          object\n",
      "reviewer_id         object\n",
      "stars                int64\n",
      "review_body         object\n",
      "review_title        object\n",
      "language            object\n",
      "product_category    object\n",
      "dtype: object\n",
      "\n",
      "The missing values of dataset: review_id            0\n",
      "product_id           0\n",
      "reviewer_id          0\n",
      "stars                0\n",
      "review_body          0\n",
      "review_title        33\n",
      "language             0\n",
      "product_category     0\n",
      "dtype: int64\n",
      "\n",
      "DOublons: 0\n"
     ]
    }
   ],
   "source": [
    "## description and types of data\n",
    "#data_list = [df_en, df_fr]\n",
    "def description_data(data):\n",
    "    ## describe all\n",
    "        data.describe(include='all')\n",
    "        ## types of data\n",
    "        print(f\"The types of data is : {data.dtypes}\\n\")\n",
    "        ## values misisng\n",
    "        print(f\"The missing values of dataset: {data.isnull().sum()}\\n\")\n",
    "        ##douplons\n",
    "        print(f\"DOublons: {data.duplicated().sum()}\") \n",
    "description_data(df_en)"
   ]
  },
  {
   "cell_type": "code",
   "execution_count": 6,
   "metadata": {},
   "outputs": [
    {
     "name": "stdout",
     "output_type": "stream",
     "text": [
      "The types of data is : review_id           object\n",
      "product_id          object\n",
      "reviewer_id         object\n",
      "stars                int64\n",
      "review_body         object\n",
      "review_title        object\n",
      "language            object\n",
      "product_category    object\n",
      "dtype: object\n",
      "\n",
      "The missing values of dataset: review_id           0\n",
      "product_id          0\n",
      "reviewer_id         0\n",
      "stars               0\n",
      "review_body         0\n",
      "review_title        4\n",
      "language            0\n",
      "product_category    0\n",
      "dtype: int64\n",
      "\n",
      "DOublons: 0\n"
     ]
    }
   ],
   "source": [
    "description_data(df_fr)"
   ]
  },
  {
   "cell_type": "code",
   "execution_count": 7,
   "metadata": {},
   "outputs": [
    {
     "data": {
      "text/plain": [
       "((200000, 8), (200000, 8))"
      ]
     },
     "execution_count": 7,
     "metadata": {},
     "output_type": "execute_result"
    }
   ],
   "source": [
    "df_fr.shape, df_en.shape"
   ]
  },
  {
   "cell_type": "code",
   "execution_count": 8,
   "metadata": {},
   "outputs": [
    {
     "data": {
      "image/png": "[encoded data removed]",
      "text/plain": [
       "<Figure size 1000x800 with 1 Axes>"
      ]
     },
     "metadata": {},
     "output_type": "display_data"
    }
   ],
   "source": [
    "## merge the dataset df_fr\n",
    "plt.figure(figsize=(10, 8))\n",
    "sns.countplot(data = df_en, x = 'stars', hue='language', palette='viridis')\n",
    "plt.show()\n",
    "plt.close()\n"
   ]
  },
  {
   "cell_type": "code",
   "execution_count": 9,
   "metadata": {},
   "outputs": [
    {
     "data": {
      "image/png": "[encoded data removed]",
      "text/plain": [
       "<Figure size 1200x800 with 1 Axes>"
      ]
     },
     "metadata": {},
     "output_type": "display_data"
    }
   ],
   "source": [
    "## top des 20 produits que les clients achettent\n",
    "top20_product = df_en.groupby('product_category')['stars'].sum().reset_index().sort_values('stars', ascending=False)\n",
    "plt.figure(figsize=(12, 8))\n",
    "sns.barplot(x = 'stars', y = 'product_category', hue = 'stars', palette='viridis', data =top20_product.head(20))\n",
    "plt.title(\"Top20 des categories de produits\")\n",
    "plt.show()\n",
    "plt.close()"
   ]
  },
  {
   "cell_type": "code",
   "execution_count": 10,
   "metadata": {},
   "outputs": [
    {
     "data": {
      "text/html": [
       "<div>\n",
       "<style scoped>\n",
       "    .dataframe tbody tr th:only-of-type {\n",
       "        vertical-align: middle;\n",
       "    }\n",
       "\n",
       "    .dataframe tbody tr th {\n",
       "        vertical-align: top;\n",
       "    }\n",
       "\n",
       "    .dataframe thead th {\n",
       "        text-align: right;\n",
       "    }\n",
       "</style>\n",
       "<table border=\"1\" class=\"dataframe\">\n",
       "  <thead>\n",
       "    <tr style=\"text-align: right;\">\n",
       "      <th></th>\n",
       "      <th>review_id</th>\n",
       "      <th>product_id</th>\n",
       "      <th>reviewer_id</th>\n",
       "      <th>stars</th>\n",
       "      <th>review_body</th>\n",
       "      <th>review_title</th>\n",
       "      <th>language</th>\n",
       "      <th>product_category</th>\n",
       "      <th>count_body</th>\n",
       "    </tr>\n",
       "  </thead>\n",
       "  <tbody>\n",
       "    <tr>\n",
       "      <th>0</th>\n",
       "      <td>en_0964290</td>\n",
       "      <td>product_en_0740675</td>\n",
       "      <td>reviewer_en_0342986</td>\n",
       "      <td>1</td>\n",
       "      <td>Arrived broken. Manufacturer defect. Two of th...</td>\n",
       "      <td>I'll spend twice the amount of time boxing up ...</td>\n",
       "      <td>en</td>\n",
       "      <td>furniture</td>\n",
       "      <td>612</td>\n",
       "    </tr>\n",
       "    <tr>\n",
       "      <th>1</th>\n",
       "      <td>en_0690095</td>\n",
       "      <td>product_en_0440378</td>\n",
       "      <td>reviewer_en_0133349</td>\n",
       "      <td>1</td>\n",
       "      <td>the cabinet dot were all detached from backing...</td>\n",
       "      <td>Not use able</td>\n",
       "      <td>en</td>\n",
       "      <td>home_improvement</td>\n",
       "      <td>56</td>\n",
       "    </tr>\n",
       "    <tr>\n",
       "      <th>2</th>\n",
       "      <td>en_0311558</td>\n",
       "      <td>product_en_0399702</td>\n",
       "      <td>reviewer_en_0152034</td>\n",
       "      <td>1</td>\n",
       "      <td>I received my first order of this product and ...</td>\n",
       "      <td>The product is junk.</td>\n",
       "      <td>en</td>\n",
       "      <td>home</td>\n",
       "      <td>206</td>\n",
       "    </tr>\n",
       "    <tr>\n",
       "      <th>3</th>\n",
       "      <td>en_0044972</td>\n",
       "      <td>product_en_0444063</td>\n",
       "      <td>reviewer_en_0656967</td>\n",
       "      <td>1</td>\n",
       "      <td>This product is a piece of shit. Do not buy. D...</td>\n",
       "      <td>Fucking waste of money</td>\n",
       "      <td>en</td>\n",
       "      <td>wireless</td>\n",
       "      <td>145</td>\n",
       "    </tr>\n",
       "    <tr>\n",
       "      <th>4</th>\n",
       "      <td>en_0784379</td>\n",
       "      <td>product_en_0139353</td>\n",
       "      <td>reviewer_en_0757638</td>\n",
       "      <td>1</td>\n",
       "      <td>went through 3 in one day doesn't fit correct ...</td>\n",
       "      <td>bubble</td>\n",
       "      <td>en</td>\n",
       "      <td>pc</td>\n",
       "      <td>91</td>\n",
       "    </tr>\n",
       "  </tbody>\n",
       "</table>\n",
       "</div>"
      ],
      "text/plain": [
       "    review_id          product_id          reviewer_id  stars  \\\n",
       "0  en_0964290  product_en_0740675  reviewer_en_0342986      1   \n",
       "1  en_0690095  product_en_0440378  reviewer_en_0133349      1   \n",
       "2  en_0311558  product_en_0399702  reviewer_en_0152034      1   \n",
       "3  en_0044972  product_en_0444063  reviewer_en_0656967      1   \n",
       "4  en_0784379  product_en_0139353  reviewer_en_0757638      1   \n",
       "\n",
       "                                         review_body  \\\n",
       "0  Arrived broken. Manufacturer defect. Two of th...   \n",
       "1  the cabinet dot were all detached from backing...   \n",
       "2  I received my first order of this product and ...   \n",
       "3  This product is a piece of shit. Do not buy. D...   \n",
       "4  went through 3 in one day doesn't fit correct ...   \n",
       "\n",
       "                                        review_title language  \\\n",
       "0  I'll spend twice the amount of time boxing up ...       en   \n",
       "1                                       Not use able       en   \n",
       "2                               The product is junk.       en   \n",
       "3                             Fucking waste of money       en   \n",
       "4                                             bubble       en   \n",
       "\n",
       "   product_category  count_body  \n",
       "0         furniture         612  \n",
       "1  home_improvement          56  \n",
       "2              home         206  \n",
       "3          wireless         145  \n",
       "4                pc          91  "
      ]
     },
     "execution_count": 10,
     "metadata": {},
     "output_type": "execute_result"
    }
   ],
   "source": [
    "df_en['count_body'] = df_en['review_body'].apply(lambda x: len(x))\n",
    "df_en.head(5)"
   ]
  },
  {
   "cell_type": "code",
   "execution_count": 11,
   "metadata": {},
   "outputs": [
    {
     "data": {
      "text/plain": [
       "<Axes: xlabel='Count', ylabel='count_body'>"
      ]
     },
     "execution_count": 11,
     "metadata": {},
     "output_type": "execute_result"
    },
    {
     "data": {
      "image/png": "[encoded data removed]",
      "text/plain": [
       "<Figure size 640x480 with 1 Axes>"
      ]
     },
     "metadata": {},
     "output_type": "display_data"
    }
   ],
   "source": [
    "sns.histplot(data =df_en, y = 'count_body')"
   ]
  },
  {
   "cell_type": "code",
   "execution_count": 12,
   "metadata": {},
   "outputs": [],
   "source": [
    "df = pd.concat([df_en, df_fr])"
   ]
  },
  {
   "cell_type": "code",
   "execution_count": 13,
   "metadata": {},
   "outputs": [
    {
     "data": {
      "text/plain": [
       "(400000, 9)"
      ]
     },
     "execution_count": 13,
     "metadata": {},
     "output_type": "execute_result"
    }
   ],
   "source": [
    "df.shape"
   ]
  },
  {
   "cell_type": "code",
   "execution_count": 14,
   "metadata": {},
   "outputs": [
    {
     "data": {
      "text/plain": [
       "0                                       Brumisateur à pompe\n",
       "1                                            Insatisfaisant\n",
       "2                                         Ne recommande pas\n",
       "3                                                 A éviter!\n",
       "4                                                     Déçue\n",
       "                                ...                        \n",
       "199995                                                  Top\n",
       "199996    Confirme à sa reputation de smartphone le plus...\n",
       "199997                                             pratique\n",
       "199998                            livré vite et bon produit\n",
       "199999                                      Cartable garcon\n",
       "Name: review_title, Length: 200000, dtype: object"
      ]
     },
     "execution_count": 14,
     "metadata": {},
     "output_type": "execute_result"
    }
   ],
   "source": [
    "language_fr = df.loc[df['language']=='fr', 'review_title']\n",
    "language_fr"
   ]
  },
  {
   "cell_type": "code",
   "execution_count": 15,
   "metadata": {},
   "outputs": [
    {
     "data": {
      "text/plain": [
       "0         A déconseiller - Article n'a fonctionné qu'une...\n",
       "1         Si vous voulez être déçu achetez le produit ! ...\n",
       "2         Écran de mauvaise qualité, car il s'use en peu...\n",
       "3         Cet engin ne sert à rien les sons sont pourris...\n",
       "4         Très beau produit mais la grue n'a pas fonctio...\n",
       "                                ...                        \n",
       "199995    Très jolies boucles! Très belle qualité ! Elle...\n",
       "199996    Superbe. Ultra rapide. Tres bel écran. Il y a ...\n",
       "199997               facile d'utilisation mais un peu lourd\n",
       "199998                            livré vite et bon produit\n",
       "199999    Parfait La Réception du coli avant l’heure Pro...\n",
       "Name: review_body, Length: 200000, dtype: object"
      ]
     },
     "execution_count": 15,
     "metadata": {},
     "output_type": "execute_result"
    }
   ],
   "source": [
    "language_fr_body = df.loc[df['language']=='fr', 'review_body']\n",
    "language_fr_body"
   ]
  },
  {
   "cell_type": "code",
   "execution_count": 16,
   "metadata": {},
   "outputs": [
    {
     "data": {
      "text/html": [
       "<div>\n",
       "<style scoped>\n",
       "    .dataframe tbody tr th:only-of-type {\n",
       "        vertical-align: middle;\n",
       "    }\n",
       "\n",
       "    .dataframe tbody tr th {\n",
       "        vertical-align: top;\n",
       "    }\n",
       "\n",
       "    .dataframe thead th {\n",
       "        text-align: right;\n",
       "    }\n",
       "</style>\n",
       "<table border=\"1\" class=\"dataframe\">\n",
       "  <thead>\n",
       "    <tr style=\"text-align: right;\">\n",
       "      <th></th>\n",
       "      <th>stars</th>\n",
       "      <th>review_body</th>\n",
       "      <th>review_title</th>\n",
       "    </tr>\n",
       "  </thead>\n",
       "  <tbody>\n",
       "    <tr>\n",
       "      <th>103737</th>\n",
       "      <td>3</td>\n",
       "      <td>I got this for my 5 YO daughter who loves the ...</td>\n",
       "      <td>Cute, convenient, but quality could be better</td>\n",
       "    </tr>\n",
       "    <tr>\n",
       "      <th>76221</th>\n",
       "      <td>2</td>\n",
       "      <td>Returned this product because the name of the ...</td>\n",
       "      <td>Beware the stake is plastic not metal</td>\n",
       "    </tr>\n",
       "    <tr>\n",
       "      <th>177127</th>\n",
       "      <td>5</td>\n",
       "      <td>Offerts à mon fils pour son scooter, il les a ...</td>\n",
       "      <td>Tiennent chaud parfait pour conduire un 2 roues</td>\n",
       "    </tr>\n",
       "    <tr>\n",
       "      <th>53590</th>\n",
       "      <td>2</td>\n",
       "      <td>Très jolis petits paquets mais dans l'un des 2...</td>\n",
       "      <td>ne fonctionne pas sur 2 prises allume-cigare d...</td>\n",
       "    </tr>\n",
       "    <tr>\n",
       "      <th>47088</th>\n",
       "      <td>2</td>\n",
       "      <td>They are cheaply made, the material insert kee...</td>\n",
       "      <td>Buy a better ring</td>\n",
       "    </tr>\n",
       "  </tbody>\n",
       "</table>\n",
       "</div>"
      ],
      "text/plain": [
       "        stars                                        review_body  \\\n",
       "103737      3  I got this for my 5 YO daughter who loves the ...   \n",
       "76221       2  Returned this product because the name of the ...   \n",
       "177127      5  Offerts à mon fils pour son scooter, il les a ...   \n",
       "53590       2  Très jolis petits paquets mais dans l'un des 2...   \n",
       "47088       2  They are cheaply made, the material insert kee...   \n",
       "\n",
       "                                             review_title  \n",
       "103737      Cute, convenient, but quality could be better  \n",
       "76221               Beware the stake is plastic not metal  \n",
       "177127    Tiennent chaud parfait pour conduire un 2 roues  \n",
       "53590   ne fonctionne pas sur 2 prises allume-cigare d...  \n",
       "47088                                   Buy a better ring  "
      ]
     },
     "execution_count": 16,
     "metadata": {},
     "output_type": "execute_result"
    }
   ],
   "source": [
    "### constitutions le jeu de données finales avec les colonnes pertinentes\n",
    "\n",
    "dff = df[['stars', 'review_body', 'review_title']]\n",
    "train = dff.sample(n=50000, random_state=42)\n",
    "test = dff.sample(n=50000, random_state=42)\n",
    "train.sample(5)"
   ]
  },
  {
   "cell_type": "code",
   "execution_count": 17,
   "metadata": {},
   "outputs": [
    {
     "data": {
      "text/plain": [
       "((50000, 3), (50000, 3))"
      ]
     },
     "execution_count": 17,
     "metadata": {},
     "output_type": "execute_result"
    }
   ],
   "source": [
    "train.shape, test.shape"
   ]
  },
  {
   "cell_type": "code",
   "execution_count": 18,
   "metadata": {},
   "outputs": [
    {
     "data": {
      "text/plain": [
       "((50000, 4),\n",
       " stars           0\n",
       " review_body     0\n",
       " review_title    4\n",
       " review          4\n",
       " dtype: int64,\n",
       "         stars                                        review_body  \\\n",
       " 23218       1  I still have not received my order ,it was sup...   \n",
       " 20731       1  No when I sweat a lot it is forming a white la...   \n",
       " 39555       1  I ordered a red violin case on Dec. 3 for my d...   \n",
       " 147506      4  This thermometer comes as described and works ...   \n",
       " 114215      3  Utilisé 1 fois et l’encre à séché très vite. P...   \n",
       " 190913      5  Great little bag and doesn't slide off my chop...   \n",
       " 96715       3  Je trouve cette coque vraiment jolie. La seule...   \n",
       " 141482      4                             Its so soft. I love it   \n",
       " 49119       2              Clips do not stay on very well at all   \n",
       " 8005        1  Produit renvoyer car sur 10 ampoules seulement...   \n",
       " \n",
       "                                              review_title  \\\n",
       " 23218                                       No. Order yet   \n",
       " 20731                                            One Star   \n",
       " 39555         I was so disappointed when I opened the box   \n",
       " 147506                      Nice and accurate thermometer   \n",
       " 114215                                                Bof   \n",
       " 190913                                         Good value   \n",
       " 96715   Ne protège que partiellement les contours du s...   \n",
       " 141482                                      Great quality   \n",
       " 49119                                 Flimsy not worth it   \n",
       " 8005                         Ne recommande pas le produit   \n",
       " \n",
       "                                                    review  \n",
       " 23218   I still have not received my order ,it was sup...  \n",
       " 20731   No when I sweat a lot it is forming a white la...  \n",
       " 39555   I ordered a red violin case on Dec. 3 for my d...  \n",
       " 147506  This thermometer comes as described and works ...  \n",
       " 114215  Utilisé 1 fois et l’encre à séché très vite. P...  \n",
       " 190913  Great little bag and doesn't slide off my chop...  \n",
       " 96715   Je trouve cette coque vraiment jolie. La seule...  \n",
       " 141482               Its so soft. I love it Great quality  \n",
       " 49119   Clips do not stay on very well at all Flimsy n...  \n",
       " 8005    Produit renvoyer car sur 10 ampoules seulement...  )"
      ]
     },
     "execution_count": 18,
     "metadata": {},
     "output_type": "execute_result"
    }
   ],
   "source": [
    "train['review'] = train['review_body'] + \" \" + train['review_title']\n",
    "train.shape, train.isnull().sum(), train.head(10)"
   ]
  },
  {
   "cell_type": "code",
   "execution_count": 19,
   "metadata": {},
   "outputs": [
    {
     "data": {
      "image/png": "[encoded data removed]",
      "text/plain": [
       "<Figure size 640x480 with 1 Axes>"
      ]
     },
     "metadata": {},
     "output_type": "display_data"
    }
   ],
   "source": [
    "length_fr_review = df_fr['review_body'].str.len()\n",
    "length_en_review = df_en['review_body'].str.len()\n",
    "\n",
    "plt.hist(length_fr_review, label='fr')\n",
    "plt.hist(length_en_review, label='en')\n",
    "plt.legend()\n",
    "plt.show()"
   ]
  },
  {
   "cell_type": "code",
   "execution_count": 20,
   "metadata": {},
   "outputs": [
    {
     "data": {
      "text/html": [
       "<div>\n",
       "<style scoped>\n",
       "    .dataframe tbody tr th:only-of-type {\n",
       "        vertical-align: middle;\n",
       "    }\n",
       "\n",
       "    .dataframe tbody tr th {\n",
       "        vertical-align: top;\n",
       "    }\n",
       "\n",
       "    .dataframe thead th {\n",
       "        text-align: right;\n",
       "    }\n",
       "</style>\n",
       "<table border=\"1\" class=\"dataframe\">\n",
       "  <thead>\n",
       "    <tr style=\"text-align: right;\">\n",
       "      <th></th>\n",
       "      <th>stars</th>\n",
       "      <th>review_body</th>\n",
       "      <th>review_title</th>\n",
       "      <th>review</th>\n",
       "      <th>review_clean</th>\n",
       "    </tr>\n",
       "  </thead>\n",
       "  <tbody>\n",
       "    <tr>\n",
       "      <th>23218</th>\n",
       "      <td>1</td>\n",
       "      <td>I still have not received my order ,it was sup...</td>\n",
       "      <td>No. Order yet</td>\n",
       "      <td>I still have not received my order ,it was sup...</td>\n",
       "      <td>i still have not received my order it was supp...</td>\n",
       "    </tr>\n",
       "    <tr>\n",
       "      <th>20731</th>\n",
       "      <td>1</td>\n",
       "      <td>No when I sweat a lot it is forming a white la...</td>\n",
       "      <td>One Star</td>\n",
       "      <td>No when I sweat a lot it is forming a white la...</td>\n",
       "      <td>no when i sweat a lot it is forming a white la...</td>\n",
       "    </tr>\n",
       "    <tr>\n",
       "      <th>39555</th>\n",
       "      <td>1</td>\n",
       "      <td>I ordered a red violin case on Dec. 3 for my d...</td>\n",
       "      <td>I was so disappointed when I opened the box</td>\n",
       "      <td>I ordered a red violin case on Dec. 3 for my d...</td>\n",
       "      <td>i ordered a red violin case on dec for my daug...</td>\n",
       "    </tr>\n",
       "    <tr>\n",
       "      <th>147506</th>\n",
       "      <td>4</td>\n",
       "      <td>This thermometer comes as described and works ...</td>\n",
       "      <td>Nice and accurate thermometer</td>\n",
       "      <td>This thermometer comes as described and works ...</td>\n",
       "      <td>this thermometer comes as described and works ...</td>\n",
       "    </tr>\n",
       "    <tr>\n",
       "      <th>114215</th>\n",
       "      <td>3</td>\n",
       "      <td>Utilisé 1 fois et l’encre à séché très vite. P...</td>\n",
       "      <td>Bof</td>\n",
       "      <td>Utilisé 1 fois et l’encre à séché très vite. P...</td>\n",
       "      <td>utilis fois et lencre sch trs vite plus habitu...</td>\n",
       "    </tr>\n",
       "  </tbody>\n",
       "</table>\n",
       "</div>"
      ],
      "text/plain": [
       "        stars                                        review_body  \\\n",
       "23218       1  I still have not received my order ,it was sup...   \n",
       "20731       1  No when I sweat a lot it is forming a white la...   \n",
       "39555       1  I ordered a red violin case on Dec. 3 for my d...   \n",
       "147506      4  This thermometer comes as described and works ...   \n",
       "114215      3  Utilisé 1 fois et l’encre à séché très vite. P...   \n",
       "\n",
       "                                       review_title  \\\n",
       "23218                                 No. Order yet   \n",
       "20731                                      One Star   \n",
       "39555   I was so disappointed when I opened the box   \n",
       "147506                Nice and accurate thermometer   \n",
       "114215                                          Bof   \n",
       "\n",
       "                                                   review  \\\n",
       "23218   I still have not received my order ,it was sup...   \n",
       "20731   No when I sweat a lot it is forming a white la...   \n",
       "39555   I ordered a red violin case on Dec. 3 for my d...   \n",
       "147506  This thermometer comes as described and works ...   \n",
       "114215  Utilisé 1 fois et l’encre à séché très vite. P...   \n",
       "\n",
       "                                             review_clean  \n",
       "23218   i still have not received my order it was supp...  \n",
       "20731   no when i sweat a lot it is forming a white la...  \n",
       "39555   i ordered a red violin case on dec for my daug...  \n",
       "147506  this thermometer comes as described and works ...  \n",
       "114215  utilis fois et lencre sch trs vite plus habitu...  "
      ]
     },
     "execution_count": 20,
     "metadata": {},
     "output_type": "execute_result"
    }
   ],
   "source": [
    "def cleaning_text(text):\n",
    "    \n",
    "    ## verifier les valeurs manquantes\n",
    "    if pd.isna(text):\n",
    "        return \"\"\n",
    "    ## transformer en miniscules\n",
    "    ## supprimer les caraactères spéciaux, les ponctuations et les emojis\n",
    "    '''Make text lowercase, remove text in square brackets,remove links,remove punctuation\n",
    "    and remove words containing numbers.'''\n",
    "    \n",
    "    text = text.lower()\n",
    "    text = re.sub('\\[.*?\\]', '', text)\n",
    "    text = re.sub(r\"\\d+\", \"\", text) ## suppression des chiffres\n",
    "    text = re.sub(r\"[^a-zA-Z\\s]\", \"\", text)\n",
    "    text = re.sub(r\"\\s+\", \" \", text).strip()\n",
    "    text = re.sub('https?://\\S+|www\\.\\S+', '', text)\n",
    "    text = re.sub('<.*?>+', '', text)\n",
    "    text = re.sub('[%s]' % re.escape(string.punctuation), '', text)\n",
    "    text = re.sub('\\n', '', text)\n",
    "    text = re.sub('\\w*\\d\\w*', '', text)\n",
    "    return text\n",
    "\n",
    "train['review_clean'] = train['review'].apply(lambda y: cleaning_text(y))\n",
    "train.head()"
   ]
  },
  {
   "cell_type": "code",
   "execution_count": 21,
   "metadata": {},
   "outputs": [
    {
     "data": {
      "text/html": [
       "<div>\n",
       "<style scoped>\n",
       "    .dataframe tbody tr th:only-of-type {\n",
       "        vertical-align: middle;\n",
       "    }\n",
       "\n",
       "    .dataframe tbody tr th {\n",
       "        vertical-align: top;\n",
       "    }\n",
       "\n",
       "    .dataframe thead th {\n",
       "        text-align: right;\n",
       "    }\n",
       "</style>\n",
       "<table border=\"1\" class=\"dataframe\">\n",
       "  <thead>\n",
       "    <tr style=\"text-align: right;\">\n",
       "      <th></th>\n",
       "      <th>stars</th>\n",
       "      <th>review_body</th>\n",
       "      <th>review_title</th>\n",
       "      <th>review</th>\n",
       "      <th>review_clean</th>\n",
       "      <th>target</th>\n",
       "    </tr>\n",
       "  </thead>\n",
       "  <tbody>\n",
       "    <tr>\n",
       "      <th>23218</th>\n",
       "      <td>1</td>\n",
       "      <td>I still have not received my order ,it was sup...</td>\n",
       "      <td>No. Order yet</td>\n",
       "      <td>I still have not received my order ,it was sup...</td>\n",
       "      <td>i still have not received my order it was supp...</td>\n",
       "      <td>negative</td>\n",
       "    </tr>\n",
       "    <tr>\n",
       "      <th>20731</th>\n",
       "      <td>1</td>\n",
       "      <td>No when I sweat a lot it is forming a white la...</td>\n",
       "      <td>One Star</td>\n",
       "      <td>No when I sweat a lot it is forming a white la...</td>\n",
       "      <td>no when i sweat a lot it is forming a white la...</td>\n",
       "      <td>negative</td>\n",
       "    </tr>\n",
       "    <tr>\n",
       "      <th>39555</th>\n",
       "      <td>1</td>\n",
       "      <td>I ordered a red violin case on Dec. 3 for my d...</td>\n",
       "      <td>I was so disappointed when I opened the box</td>\n",
       "      <td>I ordered a red violin case on Dec. 3 for my d...</td>\n",
       "      <td>i ordered a red violin case on dec for my daug...</td>\n",
       "      <td>negative</td>\n",
       "    </tr>\n",
       "    <tr>\n",
       "      <th>147506</th>\n",
       "      <td>4</td>\n",
       "      <td>This thermometer comes as described and works ...</td>\n",
       "      <td>Nice and accurate thermometer</td>\n",
       "      <td>This thermometer comes as described and works ...</td>\n",
       "      <td>this thermometer comes as described and works ...</td>\n",
       "      <td>positive</td>\n",
       "    </tr>\n",
       "    <tr>\n",
       "      <th>114215</th>\n",
       "      <td>3</td>\n",
       "      <td>Utilisé 1 fois et l’encre à séché très vite. P...</td>\n",
       "      <td>Bof</td>\n",
       "      <td>Utilisé 1 fois et l’encre à séché très vite. P...</td>\n",
       "      <td>utilis fois et lencre sch trs vite plus habitu...</td>\n",
       "      <td>neutral</td>\n",
       "    </tr>\n",
       "    <tr>\n",
       "      <th>190913</th>\n",
       "      <td>5</td>\n",
       "      <td>Great little bag and doesn't slide off my chop...</td>\n",
       "      <td>Good value</td>\n",
       "      <td>Great little bag and doesn't slide off my chop...</td>\n",
       "      <td>great little bag and doesnt slide off my chopp...</td>\n",
       "      <td>positive</td>\n",
       "    </tr>\n",
       "    <tr>\n",
       "      <th>96715</th>\n",
       "      <td>3</td>\n",
       "      <td>Je trouve cette coque vraiment jolie. La seule...</td>\n",
       "      <td>Ne protège que partiellement les contours du s...</td>\n",
       "      <td>Je trouve cette coque vraiment jolie. La seule...</td>\n",
       "      <td>je trouve cette coque vraiment jolie la seule ...</td>\n",
       "      <td>neutral</td>\n",
       "    </tr>\n",
       "    <tr>\n",
       "      <th>141482</th>\n",
       "      <td>4</td>\n",
       "      <td>Its so soft. I love it</td>\n",
       "      <td>Great quality</td>\n",
       "      <td>Its so soft. I love it Great quality</td>\n",
       "      <td>its so soft i love it great quality</td>\n",
       "      <td>positive</td>\n",
       "    </tr>\n",
       "    <tr>\n",
       "      <th>49119</th>\n",
       "      <td>2</td>\n",
       "      <td>Clips do not stay on very well at all</td>\n",
       "      <td>Flimsy not worth it</td>\n",
       "      <td>Clips do not stay on very well at all Flimsy n...</td>\n",
       "      <td>clips do not stay on very well at all flimsy n...</td>\n",
       "      <td>negative</td>\n",
       "    </tr>\n",
       "    <tr>\n",
       "      <th>8005</th>\n",
       "      <td>1</td>\n",
       "      <td>Produit renvoyer car sur 10 ampoules seulement...</td>\n",
       "      <td>Ne recommande pas le produit</td>\n",
       "      <td>Produit renvoyer car sur 10 ampoules seulement...</td>\n",
       "      <td>produit renvoyer car sur ampoules seulement ou...</td>\n",
       "      <td>negative</td>\n",
       "    </tr>\n",
       "  </tbody>\n",
       "</table>\n",
       "</div>"
      ],
      "text/plain": [
       "        stars                                        review_body  \\\n",
       "23218       1  I still have not received my order ,it was sup...   \n",
       "20731       1  No when I sweat a lot it is forming a white la...   \n",
       "39555       1  I ordered a red violin case on Dec. 3 for my d...   \n",
       "147506      4  This thermometer comes as described and works ...   \n",
       "114215      3  Utilisé 1 fois et l’encre à séché très vite. P...   \n",
       "190913      5  Great little bag and doesn't slide off my chop...   \n",
       "96715       3  Je trouve cette coque vraiment jolie. La seule...   \n",
       "141482      4                             Its so soft. I love it   \n",
       "49119       2              Clips do not stay on very well at all   \n",
       "8005        1  Produit renvoyer car sur 10 ampoules seulement...   \n",
       "\n",
       "                                             review_title  \\\n",
       "23218                                       No. Order yet   \n",
       "20731                                            One Star   \n",
       "39555         I was so disappointed when I opened the box   \n",
       "147506                      Nice and accurate thermometer   \n",
       "114215                                                Bof   \n",
       "190913                                         Good value   \n",
       "96715   Ne protège que partiellement les contours du s...   \n",
       "141482                                      Great quality   \n",
       "49119                                 Flimsy not worth it   \n",
       "8005                         Ne recommande pas le produit   \n",
       "\n",
       "                                                   review  \\\n",
       "23218   I still have not received my order ,it was sup...   \n",
       "20731   No when I sweat a lot it is forming a white la...   \n",
       "39555   I ordered a red violin case on Dec. 3 for my d...   \n",
       "147506  This thermometer comes as described and works ...   \n",
       "114215  Utilisé 1 fois et l’encre à séché très vite. P...   \n",
       "190913  Great little bag and doesn't slide off my chop...   \n",
       "96715   Je trouve cette coque vraiment jolie. La seule...   \n",
       "141482               Its so soft. I love it Great quality   \n",
       "49119   Clips do not stay on very well at all Flimsy n...   \n",
       "8005    Produit renvoyer car sur 10 ampoules seulement...   \n",
       "\n",
       "                                             review_clean    target  \n",
       "23218   i still have not received my order it was supp...  negative  \n",
       "20731   no when i sweat a lot it is forming a white la...  negative  \n",
       "39555   i ordered a red violin case on dec for my daug...  negative  \n",
       "147506  this thermometer comes as described and works ...  positive  \n",
       "114215  utilis fois et lencre sch trs vite plus habitu...   neutral  \n",
       "190913  great little bag and doesnt slide off my chopp...  positive  \n",
       "96715   je trouve cette coque vraiment jolie la seule ...   neutral  \n",
       "141482                its so soft i love it great quality  positive  \n",
       "49119   clips do not stay on very well at all flimsy n...  negative  \n",
       "8005    produit renvoyer car sur ampoules seulement ou...  negative  "
      ]
     },
     "execution_count": 21,
     "metadata": {},
     "output_type": "execute_result"
    }
   ],
   "source": [
    "### identifying the sentiment of text\n",
    "\n",
    "def attribut_label(star):\n",
    "    \n",
    "    if star < 3:\n",
    "        return \"negative\"\n",
    "    elif star == 3:\n",
    "        return \"neutral\"\n",
    "    elif star >= 4:\n",
    "        return \"positive\"\n",
    "    else:\n",
    "        return \"unknown\"\n",
    "    \n",
    "train['target'] = train['stars'].apply(lambda z: attribut_label(z))\n",
    "train[:10]\n",
    "    "
   ]
  },
  {
   "cell_type": "code",
   "execution_count": 22,
   "metadata": {},
   "outputs": [
    {
     "data": {
      "text/plain": [
       "stars\n",
       "5    10092\n",
       "3    10036\n",
       "4    10022\n",
       "1     9949\n",
       "2     9901\n",
       "Name: count, dtype: int64"
      ]
     },
     "execution_count": 22,
     "metadata": {},
     "output_type": "execute_result"
    }
   ],
   "source": [
    "train['stars'].value_counts()"
   ]
  },
  {
   "cell_type": "code",
   "execution_count": 23,
   "metadata": {},
   "outputs": [
    {
     "name": "stderr",
     "output_type": "stream",
     "text": [
      "[nltk_data] Error loading punkt: <urlopen error [Errno -3] Temporary\n",
      "[nltk_data]     failure in name resolution>\n",
      "[nltk_data] Error loading stopwords: <urlopen error [Errno -3]\n",
      "[nltk_data]     Temporary failure in name resolution>\n",
      "[nltk_data] Error loading vader_lexicon: <urlopen error [Errno -3]\n",
      "[nltk_data]     Temporary failure in name resolution>\n",
      "[nltk_data] Error loading all: <urlopen error [Errno -3] Temporary\n",
      "[nltk_data]     failure in name resolution>\n"
     ]
    },
    {
     "data": {
      "text/plain": [
       "False"
      ]
     },
     "execution_count": 23,
     "metadata": {},
     "output_type": "execute_result"
    }
   ],
   "source": [
    "nltk.download('punkt')\n",
    "nltk.download('stopwords')\n",
    "nltk.download('vader_lexicon')\n",
    "nltk.download('all')\n"
   ]
  },
  {
   "cell_type": "code",
   "execution_count": 24,
   "metadata": {},
   "outputs": [
    {
     "name": "stderr",
     "output_type": "stream",
     "text": [
      "[nltk_data] Error loading wordnet: <urlopen error [Errno -3] Temporary\n",
      "[nltk_data]     failure in name resolution>\n",
      "[nltk_data] Error loading omw-1.4: <urlopen error [Errno -3] Temporary\n",
      "[nltk_data]     failure in name resolution>\n"
     ]
    },
    {
     "data": {
      "text/plain": [
       "False"
      ]
     },
     "execution_count": 24,
     "metadata": {},
     "output_type": "execute_result"
    }
   ],
   "source": [
    "nltk.download('wordnet')\n",
    "nltk.download('omw-1.4')"
   ]
  },
  {
   "cell_type": "code",
   "execution_count": 25,
   "metadata": {},
   "outputs": [
    {
     "data": {
      "text/html": [
       "<div>\n",
       "<style scoped>\n",
       "    .dataframe tbody tr th:only-of-type {\n",
       "        vertical-align: middle;\n",
       "    }\n",
       "\n",
       "    .dataframe tbody tr th {\n",
       "        vertical-align: top;\n",
       "    }\n",
       "\n",
       "    .dataframe thead th {\n",
       "        text-align: right;\n",
       "    }\n",
       "</style>\n",
       "<table border=\"1\" class=\"dataframe\">\n",
       "  <thead>\n",
       "    <tr style=\"text-align: right;\">\n",
       "      <th></th>\n",
       "      <th>stars</th>\n",
       "      <th>review_body</th>\n",
       "      <th>review_title</th>\n",
       "      <th>review</th>\n",
       "      <th>review_clean</th>\n",
       "      <th>target</th>\n",
       "      <th>review_text</th>\n",
       "    </tr>\n",
       "  </thead>\n",
       "  <tbody>\n",
       "    <tr>\n",
       "      <th>23218</th>\n",
       "      <td>1</td>\n",
       "      <td>I still have not received my order ,it was sup...</td>\n",
       "      <td>No. Order yet</td>\n",
       "      <td>I still have not received my order ,it was sup...</td>\n",
       "      <td>i still have not received my order it was supp...</td>\n",
       "      <td>negative</td>\n",
       "      <td>still received order supposed two day day orde...</td>\n",
       "    </tr>\n",
       "    <tr>\n",
       "      <th>20731</th>\n",
       "      <td>1</td>\n",
       "      <td>No when I sweat a lot it is forming a white la...</td>\n",
       "      <td>One Star</td>\n",
       "      <td>No when I sweat a lot it is forming a white la...</td>\n",
       "      <td>no when i sweat a lot it is forming a white la...</td>\n",
       "      <td>negative</td>\n",
       "      <td>sweat lot forming white layer back watch one star</td>\n",
       "    </tr>\n",
       "    <tr>\n",
       "      <th>39555</th>\n",
       "      <td>1</td>\n",
       "      <td>I ordered a red violin case on Dec. 3 for my d...</td>\n",
       "      <td>I was so disappointed when I opened the box</td>\n",
       "      <td>I ordered a red violin case on Dec. 3 for my d...</td>\n",
       "      <td>i ordered a red violin case on dec for my daug...</td>\n",
       "      <td>negative</td>\n",
       "      <td>ordered red violin case dec daughter christmas...</td>\n",
       "    </tr>\n",
       "    <tr>\n",
       "      <th>147506</th>\n",
       "      <td>4</td>\n",
       "      <td>This thermometer comes as described and works ...</td>\n",
       "      <td>Nice and accurate thermometer</td>\n",
       "      <td>This thermometer comes as described and works ...</td>\n",
       "      <td>this thermometer comes as described and works ...</td>\n",
       "      <td>positive</td>\n",
       "      <td>thermometer come described work great easy use...</td>\n",
       "    </tr>\n",
       "    <tr>\n",
       "      <th>114215</th>\n",
       "      <td>3</td>\n",
       "      <td>Utilisé 1 fois et l’encre à séché très vite. P...</td>\n",
       "      <td>Bof</td>\n",
       "      <td>Utilisé 1 fois et l’encre à séché très vite. P...</td>\n",
       "      <td>utilis fois et lencre sch trs vite plus habitu...</td>\n",
       "      <td>neutral</td>\n",
       "      <td>utilis fois lencre sch trs vite plus habitue f...</td>\n",
       "    </tr>\n",
       "    <tr>\n",
       "      <th>190913</th>\n",
       "      <td>5</td>\n",
       "      <td>Great little bag and doesn't slide off my chop...</td>\n",
       "      <td>Good value</td>\n",
       "      <td>Great little bag and doesn't slide off my chop...</td>\n",
       "      <td>great little bag and doesnt slide off my chopp...</td>\n",
       "      <td>positive</td>\n",
       "      <td>great little bag doesnt slide chopper tank way...</td>\n",
       "    </tr>\n",
       "    <tr>\n",
       "      <th>96715</th>\n",
       "      <td>3</td>\n",
       "      <td>Je trouve cette coque vraiment jolie. La seule...</td>\n",
       "      <td>Ne protège que partiellement les contours du s...</td>\n",
       "      <td>Je trouve cette coque vraiment jolie. La seule...</td>\n",
       "      <td>je trouve cette coque vraiment jolie la seule ...</td>\n",
       "      <td>neutral</td>\n",
       "      <td>trouve cette coque vraiment jolie seule chose ...</td>\n",
       "    </tr>\n",
       "    <tr>\n",
       "      <th>141482</th>\n",
       "      <td>4</td>\n",
       "      <td>Its so soft. I love it</td>\n",
       "      <td>Great quality</td>\n",
       "      <td>Its so soft. I love it Great quality</td>\n",
       "      <td>its so soft i love it great quality</td>\n",
       "      <td>positive</td>\n",
       "      <td>soft love great quality</td>\n",
       "    </tr>\n",
       "    <tr>\n",
       "      <th>49119</th>\n",
       "      <td>2</td>\n",
       "      <td>Clips do not stay on very well at all</td>\n",
       "      <td>Flimsy not worth it</td>\n",
       "      <td>Clips do not stay on very well at all Flimsy n...</td>\n",
       "      <td>clips do not stay on very well at all flimsy n...</td>\n",
       "      <td>negative</td>\n",
       "      <td>clip stay well flimsy worth</td>\n",
       "    </tr>\n",
       "    <tr>\n",
       "      <th>8005</th>\n",
       "      <td>1</td>\n",
       "      <td>Produit renvoyer car sur 10 ampoules seulement...</td>\n",
       "      <td>Ne recommande pas le produit</td>\n",
       "      <td>Produit renvoyer car sur 10 ampoules seulement...</td>\n",
       "      <td>produit renvoyer car sur ampoules seulement ou...</td>\n",
       "      <td>negative</td>\n",
       "      <td>produit renvoyer car ampoule seulement fonctio...</td>\n",
       "    </tr>\n",
       "  </tbody>\n",
       "</table>\n",
       "</div>"
      ],
      "text/plain": [
       "        stars                                        review_body  \\\n",
       "23218       1  I still have not received my order ,it was sup...   \n",
       "20731       1  No when I sweat a lot it is forming a white la...   \n",
       "39555       1  I ordered a red violin case on Dec. 3 for my d...   \n",
       "147506      4  This thermometer comes as described and works ...   \n",
       "114215      3  Utilisé 1 fois et l’encre à séché très vite. P...   \n",
       "190913      5  Great little bag and doesn't slide off my chop...   \n",
       "96715       3  Je trouve cette coque vraiment jolie. La seule...   \n",
       "141482      4                             Its so soft. I love it   \n",
       "49119       2              Clips do not stay on very well at all   \n",
       "8005        1  Produit renvoyer car sur 10 ampoules seulement...   \n",
       "\n",
       "                                             review_title  \\\n",
       "23218                                       No. Order yet   \n",
       "20731                                            One Star   \n",
       "39555         I was so disappointed when I opened the box   \n",
       "147506                      Nice and accurate thermometer   \n",
       "114215                                                Bof   \n",
       "190913                                         Good value   \n",
       "96715   Ne protège que partiellement les contours du s...   \n",
       "141482                                      Great quality   \n",
       "49119                                 Flimsy not worth it   \n",
       "8005                         Ne recommande pas le produit   \n",
       "\n",
       "                                                   review  \\\n",
       "23218   I still have not received my order ,it was sup...   \n",
       "20731   No when I sweat a lot it is forming a white la...   \n",
       "39555   I ordered a red violin case on Dec. 3 for my d...   \n",
       "147506  This thermometer comes as described and works ...   \n",
       "114215  Utilisé 1 fois et l’encre à séché très vite. P...   \n",
       "190913  Great little bag and doesn't slide off my chop...   \n",
       "96715   Je trouve cette coque vraiment jolie. La seule...   \n",
       "141482               Its so soft. I love it Great quality   \n",
       "49119   Clips do not stay on very well at all Flimsy n...   \n",
       "8005    Produit renvoyer car sur 10 ampoules seulement...   \n",
       "\n",
       "                                             review_clean    target  \\\n",
       "23218   i still have not received my order it was supp...  negative   \n",
       "20731   no when i sweat a lot it is forming a white la...  negative   \n",
       "39555   i ordered a red violin case on dec for my daug...  negative   \n",
       "147506  this thermometer comes as described and works ...  positive   \n",
       "114215  utilis fois et lencre sch trs vite plus habitu...   neutral   \n",
       "190913  great little bag and doesnt slide off my chopp...  positive   \n",
       "96715   je trouve cette coque vraiment jolie la seule ...   neutral   \n",
       "141482                its so soft i love it great quality  positive   \n",
       "49119   clips do not stay on very well at all flimsy n...  negative   \n",
       "8005    produit renvoyer car sur ampoules seulement ou...  negative   \n",
       "\n",
       "                                              review_text  \n",
       "23218   still received order supposed two day day orde...  \n",
       "20731   sweat lot forming white layer back watch one star  \n",
       "39555   ordered red violin case dec daughter christmas...  \n",
       "147506  thermometer come described work great easy use...  \n",
       "114215  utilis fois lencre sch trs vite plus habitue f...  \n",
       "190913  great little bag doesnt slide chopper tank way...  \n",
       "96715   trouve cette coque vraiment jolie seule chose ...  \n",
       "141482                            soft love great quality  \n",
       "49119                         clip stay well flimsy worth  \n",
       "8005    produit renvoyer car ampoule seulement fonctio...  "
      ]
     },
     "execution_count": 25,
     "metadata": {},
     "output_type": "execute_result"
    }
   ],
   "source": [
    "## pretraitement of texte\n",
    "\n",
    "def preprocess_text(text):\n",
    "    \n",
    "    ## tokenizer le texte\n",
    "    token = word_tokenize(text)\n",
    "    ## supprimer les stopwords\n",
    "    stop_words = set(stopwords.words(\"english\")) | set(stopwords.words('french'))\n",
    "    tokens = [word for word in token if word not in stop_words]\n",
    "    lematizer = WordNetLemmatizer()\n",
    "    tokens= [lematizer.lemmatize(w) for w in tokens]\n",
    "    return \" \".join(tokens)\n",
    "\n",
    "train['review_text'] = train['review_clean'].apply(lambda t:preprocess_text(t))\n",
    "train[:10]"
   ]
  },
  {
   "cell_type": "code",
   "execution_count": 26,
   "metadata": {},
   "outputs": [
    {
     "data": {
      "text/plain": [
       "((35000,), (15000,), (35000,), (15000,))"
      ]
     },
     "execution_count": 26,
     "metadata": {},
     "output_type": "execute_result"
    }
   ],
   "source": [
    "from sklearn.preprocessing import LabelEncoder\n",
    "X = train['review_text']\n",
    "encoder = LabelEncoder()\n",
    "y = encoder.fit_transform(train['target'])\n",
    "\n",
    "xtrain, xtest, ytrain, ytest = train_test_split(X, y, stratify=y, test_size=0.3, random_state=42)\n",
    "xtrain.shape, xtest.shape, ytrain.shape, ytest.shape"
   ]
  },
  {
   "cell_type": "code",
   "execution_count": 27,
   "metadata": {},
   "outputs": [],
   "source": [
    "### vectorize the sentence of review\n",
    "\n",
    "def vectorize_sentences(xtrain, xtest):\n",
    "    vectorizer =TfidfVectorizer(max_features=10000, analyzer=\"word\", min_df=5)\n",
    "    Xtrain= vectorizer.fit_transform(xtrain)\n",
    "    Xtest = vectorizer.transform(xtest)\n",
    "    return Xtrain, Xtest\n",
    "\n",
    "Xtrain, Xtest = vectorize_sentences(xtrain=xtrain, xtest=xtest)"
   ]
  },
  {
   "cell_type": "code",
   "execution_count": 28,
   "metadata": {},
   "outputs": [],
   "source": [
    "train.to_csv('../data/processed/train.csv', index=False)\n",
    "test.to_csv('../data/processed/test.csv', index=False)"
   ]
  },
  {
   "cell_type": "code",
   "execution_count": 29,
   "metadata": {},
   "outputs": [
    {
     "data": {
      "text/plain": [
       "((35000, 9761), (15000, 9761))"
      ]
     },
     "execution_count": 29,
     "metadata": {},
     "output_type": "execute_result"
    }
   ],
   "source": [
    "Xtrain.shape, Xtest.shape"
   ]
  },
  {
   "cell_type": "code",
   "execution_count": 30,
   "metadata": {},
   "outputs": [
    {
     "name": "stdout",
     "output_type": "stream",
     "text": [
      "Accuracy for Logistic Regression\n",
      "0.7256\n",
      "Precision for Logistic Regression\n",
      "0.6670007607922289\n",
      "f1 score for Logistic Regression\n",
      "0.6423992609908935\n",
      "Classification report for Logistic Regression\n",
      "              precision    recall  f1-score   support\n",
      "\n",
      "           0       0.74      0.84      0.79      5955\n",
      "           1       0.50      0.25      0.34      3011\n",
      "           2       0.76      0.85      0.80      6034\n",
      "\n",
      "    accuracy                           0.73     15000\n",
      "   macro avg       0.67      0.65      0.64     15000\n",
      "weighted avg       0.70      0.73      0.70     15000\n",
      "\n",
      "Accuracy for BernoulliNB\n",
      "0.6892666666666667\n",
      "Precision for BernoulliNB\n",
      "0.6299669433260914\n",
      "f1 score for BernoulliNB\n",
      "0.6252630056750608\n",
      "Classification report for BernoulliNB\n",
      "              precision    recall  f1-score   support\n",
      "\n",
      "           0       0.77      0.74      0.75      5955\n",
      "           1       0.40      0.31      0.35      3011\n",
      "           2       0.72      0.82      0.77      6034\n",
      "\n",
      "    accuracy                           0.69     15000\n",
      "   macro avg       0.63      0.63      0.63     15000\n",
      "weighted avg       0.68      0.69      0.68     15000\n",
      "\n"
     ]
    }
   ],
   "source": [
    "from sklearn.svm import SVC, LinearSVC\n",
    "from sklearn.ensemble import RandomForestClassifier\n",
    "from sklearn.metrics import accuracy_score, precision_score, f1_score\n",
    "models = [\n",
    "\t(\"Logistic Regression\", LogisticRegression()),\n",
    "\t(\"BernoulliNB\", BernoulliNB()),\n",
    "\t#(\"GaussianNB\", GaussianNB()),\n",
    "\t#(\"SVM\", SVC())\n",
    " \n",
    "]\n",
    "\n",
    "for name, model in models:\n",
    "    model.fit(Xtrain, ytrain)\n",
    "    ypred = model.predict(Xtest)\n",
    "    print(f\"Accuracy for {name}\")\n",
    "    print(accuracy_score(ytest, ypred))\n",
    "    print(f\"Precision for {name}\")\n",
    "    print(precision_score(ytest, ypred, average='macro'))\n",
    "    print(f\"f1 score for {name}\")\n",
    "    print(f1_score(ytest, ypred, average=\"macro\"))\n",
    "    print(f\"Classification report for {name}\")\n",
    "    print(classification_report(ytest, ypred))"
   ]
  },
  {
   "cell_type": "code",
   "execution_count": 31,
   "metadata": {},
   "outputs": [
    {
     "data": {
      "text/plain": [
       "array([0, 2, 0, ..., 0, 2, 0])"
      ]
     },
     "execution_count": 31,
     "metadata": {},
     "output_type": "execute_result"
    }
   ],
   "source": [
    "y[20:]"
   ]
  },
  {
   "cell_type": "code",
   "execution_count": 33,
   "metadata": {},
   "outputs": [
    {
     "name": "stdout",
     "output_type": "stream",
     "text": [
      "RUNNING THE L-BFGS-B CODE\n",
      "\n",
      "           * * *\n",
      "\n",
      "Machine precision = 2.220D-16\n",
      " N =         9762     M =           10\n",
      "\n",
      "At X0         0 variables are exactly at the bounds\n",
      "\n",
      "At iterate    0    f=  6.93147D-01    |proj g|=  1.03000D-01\n",
      "\n",
      "           * * *\n",
      "\n",
      "Tit   = total number of iterations\n",
      "Tnf   = total number of function evaluations\n",
      "Tnint = total number of segments explored during Cauchy searches\n",
      "Skip  = number of BFGS updates skipped\n",
      "Nact  = number of active bounds at final generalized Cauchy point\n",
      "Projg = norm of the final projected gradient\n",
      "F     = final function value\n",
      "\n",
      "           * * *\n",
      "\n",
      "   N    Tit     Tnf  Tnint  Skip  Nact     Projg        F\n",
      " 9762     12     18      1     0     0   3.049D-04   4.018D-01\n",
      "  F =  0.40184602691505528     \n",
      "\n",
      "CONVERGENCE: NORM_OF_PROJECTED_GRADIENT_<=_PGTOL            \n"
     ]
    },
    {
     "name": "stderr",
     "output_type": "stream",
     "text": [
      " This problem is unconstrained.\n"
     ]
    },
    {
     "name": "stdout",
     "output_type": "stream",
     "text": [
      "RUNNING THE L-BFGS-B CODE\n",
      "\n",
      "           * * *\n",
      "\n",
      "Machine precision = 2.220D-16\n",
      " N =         9762     M =           10\n",
      "\n",
      "At X0         0 variables are exactly at the bounds\n",
      "\n",
      "At iterate    0    f=  6.93147D-01    |proj g|=  2.99286D-01\n"
     ]
    },
    {
     "name": "stderr",
     "output_type": "stream",
     "text": [
      " This problem is unconstrained.\n"
     ]
    },
    {
     "name": "stdout",
     "output_type": "stream",
     "text": [
      "\n",
      "           * * *\n",
      "\n",
      "Tit   = total number of iterations\n",
      "Tnf   = total number of function evaluations\n",
      "Tnint = total number of segments explored during Cauchy searches\n",
      "Skip  = number of BFGS updates skipped\n",
      "Nact  = number of active bounds at final generalized Cauchy point\n",
      "Projg = norm of the final projected gradient\n",
      "F     = final function value\n",
      "\n",
      "           * * *\n",
      "\n",
      "   N    Tit     Tnf  Tnint  Skip  Nact     Projg        F\n",
      " 9762     18     19      1     0     0   6.311D-04   4.194D-01\n",
      "  F =  0.41938072137529891     \n",
      "\n",
      "CONVERGENCE: NORM_OF_PROJECTED_GRADIENT_<=_PGTOL            \n",
      "RUNNING THE L-BFGS-B CODE\n",
      "\n",
      "           * * *\n",
      "\n",
      "Machine precision = 2.220D-16\n",
      " N =         9762     M =           10\n",
      "\n",
      "At X0         0 variables are exactly at the bounds\n",
      "\n",
      "At iterate    0    f=  6.93147D-01    |proj g|=  9.77143D-02\n"
     ]
    },
    {
     "name": "stderr",
     "output_type": "stream",
     "text": [
      " This problem is unconstrained.\n"
     ]
    },
    {
     "name": "stdout",
     "output_type": "stream",
     "text": [
      "\n",
      "           * * *\n",
      "\n",
      "Tit   = total number of iterations\n",
      "Tnf   = total number of function evaluations\n",
      "Tnint = total number of segments explored during Cauchy searches\n",
      "Skip  = number of BFGS updates skipped\n",
      "Nact  = number of active bounds at final generalized Cauchy point\n",
      "Projg = norm of the final projected gradient\n",
      "F     = final function value\n",
      "\n",
      "           * * *\n",
      "\n",
      "   N    Tit     Tnf  Tnint  Skip  Nact     Projg        F\n",
      " 9762      8     14      1     0     0   7.566D-04   3.862D-01\n",
      "  F =  0.38615485543893469     \n",
      "\n",
      "CONVERGENCE: NORM_OF_PROJECTED_GRADIENT_<=_PGTOL            \n",
      "RUNNING THE L-BFGS-B CODE\n",
      "\n",
      "           * * *\n",
      "\n",
      "Machine precision = 2.220D-16\n",
      " N =         9762     M =           10\n",
      "\n",
      "At X0         0 variables are exactly at the bounds\n",
      "\n",
      "At iterate    0    f=  6.93147D-01    |proj g|=  1.03000D-01\n"
     ]
    },
    {
     "name": "stderr",
     "output_type": "stream",
     "text": [
      " This problem is unconstrained.\n"
     ]
    },
    {
     "name": "stdout",
     "output_type": "stream",
     "text": [
      "\n",
      "           * * *\n",
      "\n",
      "Tit   = total number of iterations\n",
      "Tnf   = total number of function evaluations\n",
      "Tnint = total number of segments explored during Cauchy searches\n",
      "Skip  = number of BFGS updates skipped\n",
      "Nact  = number of active bounds at final generalized Cauchy point\n",
      "Projg = norm of the final projected gradient\n",
      "F     = final function value\n",
      "\n",
      "           * * *\n",
      "\n",
      "   N    Tit     Tnf  Tnint  Skip  Nact     Projg        F\n",
      " 9762     12     18      1     0     0   6.312D-04   4.029D-01\n",
      "  F =  0.40287469612084958     \n",
      "\n",
      "CONVERGENCE: NORM_OF_PROJECTED_GRADIENT_<=_PGTOL            \n",
      "RUNNING THE L-BFGS-B CODE\n",
      "\n",
      "           * * *\n",
      "\n",
      "Machine precision = 2.220D-16\n",
      " N =         9762     M =           10\n",
      "\n",
      "At X0         0 variables are exactly at the bounds\n",
      "\n",
      "At iterate    0    f=  6.93147D-01    |proj g|=  2.99286D-01\n"
     ]
    },
    {
     "name": "stderr",
     "output_type": "stream",
     "text": [
      " This problem is unconstrained.\n"
     ]
    },
    {
     "name": "stdout",
     "output_type": "stream",
     "text": [
      "\n",
      "           * * *\n",
      "\n",
      "Tit   = total number of iterations\n",
      "Tnf   = total number of function evaluations\n",
      "Tnint = total number of segments explored during Cauchy searches\n",
      "Skip  = number of BFGS updates skipped\n",
      "Nact  = number of active bounds at final generalized Cauchy point\n",
      "Projg = norm of the final projected gradient\n",
      "F     = final function value\n",
      "\n",
      "           * * *\n",
      "\n",
      "   N    Tit     Tnf  Tnint  Skip  Nact     Projg        F\n",
      " 9762     25     27      1     0     0   9.777D-04   4.123D-01\n",
      "  F =  0.41230793338290839     \n",
      "\n",
      "CONVERGENCE: NORM_OF_PROJECTED_GRADIENT_<=_PGTOL            \n",
      "RUNNING THE L-BFGS-B CODE\n",
      "\n",
      "           * * *\n",
      "\n",
      "Machine precision = 2.220D-16\n",
      " N =         9762     M =           10\n",
      "\n",
      "At X0         0 variables are exactly at the bounds\n",
      "\n",
      "At iterate    0    f=  6.93147D-01    |proj g|=  9.77143D-02\n",
      "\n",
      "           * * *\n",
      "\n",
      "Tit   = total number of iterations\n",
      "Tnf   = total number of function evaluations\n",
      "Tnint = total number of segments explored during Cauchy searches\n",
      "Skip  = number of BFGS updates skipped\n",
      "Nact  = number of active bounds at final generalized Cauchy point\n",
      "Projg = norm of the final projected gradient\n",
      "F     = final function value\n",
      "\n",
      "           * * *\n",
      "\n",
      "   N    Tit     Tnf  Tnint  Skip  Nact     Projg        F\n",
      " 9762      8     14      1     0     0   7.852D-04   3.847D-01\n",
      "  F =  0.38467350964856295     \n",
      "\n",
      "CONVERGENCE: NORM_OF_PROJECTED_GRADIENT_<=_PGTOL            \n",
      "RUNNING THE L-BFGS-B CODE\n",
      "\n",
      "           * * *\n",
      "\n",
      "Machine precision = 2.220D-16\n",
      " N =         9762     M =           10\n",
      "\n",
      "At X0         0 variables are exactly at the bounds\n",
      "\n",
      "At iterate    0    f=  6.93147D-01    |proj g|=  1.03000D-01\n"
     ]
    },
    {
     "name": "stderr",
     "output_type": "stream",
     "text": [
      " This problem is unconstrained.\n",
      " This problem is unconstrained.\n"
     ]
    },
    {
     "name": "stdout",
     "output_type": "stream",
     "text": [
      "\n",
      "           * * *\n",
      "\n",
      "Tit   = total number of iterations\n",
      "Tnf   = total number of function evaluations\n",
      "Tnint = total number of segments explored during Cauchy searches\n",
      "Skip  = number of BFGS updates skipped\n",
      "Nact  = number of active bounds at final generalized Cauchy point\n",
      "Projg = norm of the final projected gradient\n",
      "F     = final function value\n",
      "\n",
      "           * * *\n",
      "\n",
      "   N    Tit     Tnf  Tnint  Skip  Nact     Projg        F\n",
      " 9762     12     18      1     0     0   3.283D-04   4.023D-01\n",
      "  F =  0.40230215876002673     \n",
      "\n",
      "CONVERGENCE: NORM_OF_PROJECTED_GRADIENT_<=_PGTOL            \n",
      "RUNNING THE L-BFGS-B CODE\n",
      "\n",
      "           * * *\n",
      "\n",
      "Machine precision = 2.220D-16\n",
      " N =         9762     M =           10\n",
      "\n",
      "At X0         0 variables are exactly at the bounds\n",
      "\n",
      "At iterate    0    f=  6.93147D-01    |proj g|=  2.99286D-01\n",
      "\n",
      "           * * *\n",
      "\n",
      "Tit   = total number of iterations\n",
      "Tnf   = total number of function evaluations\n",
      "Tnint = total number of segments explored during Cauchy searches\n",
      "Skip  = number of BFGS updates skipped\n",
      "Nact  = number of active bounds at final generalized Cauchy point\n",
      "Projg = norm of the final projected gradient\n",
      "F     = final function value\n",
      "\n",
      "           * * *\n",
      "\n",
      "   N    Tit     Tnf  Tnint  Skip  Nact     Projg        F\n",
      " 9762     18     19      1     0     0   5.606D-04   4.193D-01\n",
      "  F =  0.41926513829529427     \n",
      "\n",
      "CONVERGENCE: NORM_OF_PROJECTED_GRADIENT_<=_PGTOL            \n",
      "RUNNING THE L-BFGS-B CODE\n",
      "\n",
      "           * * *\n",
      "\n",
      "Machine precision = 2.220D-16\n",
      " N =         9762     M =           10\n",
      "\n",
      "At X0         0 variables are exactly at the bounds\n",
      "\n",
      "At iterate    0    f=  6.93147D-01    |proj g|=  9.77143D-02\n"
     ]
    },
    {
     "name": "stderr",
     "output_type": "stream",
     "text": [
      " This problem is unconstrained.\n",
      " This problem is unconstrained.\n"
     ]
    },
    {
     "name": "stdout",
     "output_type": "stream",
     "text": [
      "\n",
      "           * * *\n",
      "\n",
      "Tit   = total number of iterations\n",
      "Tnf   = total number of function evaluations\n",
      "Tnint = total number of segments explored during Cauchy searches\n",
      "Skip  = number of BFGS updates skipped\n",
      "Nact  = number of active bounds at final generalized Cauchy point\n",
      "Projg = norm of the final projected gradient\n",
      "F     = final function value\n",
      "\n",
      "           * * *\n",
      "\n",
      "   N    Tit     Tnf  Tnint  Skip  Nact     Projg        F\n",
      " 9762      9     14      1     0     0   5.588D-04   3.834D-01\n",
      "  F =  0.38337168121654774     \n",
      "\n",
      "CONVERGENCE: NORM_OF_PROJECTED_GRADIENT_<=_PGTOL            \n",
      "RUNNING THE L-BFGS-B CODE\n",
      "\n",
      "           * * *\n",
      "\n",
      "Machine precision = 2.220D-16\n",
      " N =         9762     M =           10\n",
      "\n",
      "At X0         0 variables are exactly at the bounds\n",
      "\n",
      "At iterate    0    f=  6.93147D-01    |proj g|=  1.03000D-01\n",
      "\n",
      "           * * *\n",
      "\n",
      "Tit   = total number of iterations\n",
      "Tnf   = total number of function evaluations\n",
      "Tnint = total number of segments explored during Cauchy searches\n",
      "Skip  = number of BFGS updates skipped\n",
      "Nact  = number of active bounds at final generalized Cauchy point\n",
      "Projg = norm of the final projected gradient\n",
      "F     = final function value\n",
      "\n",
      "           * * *\n",
      "\n",
      "   N    Tit     Tnf  Tnint  Skip  Nact     Projg        F\n",
      " 9762     12     18      1     0     0   6.420D-04   4.037D-01\n",
      "  F =  0.40365466125261396     \n",
      "\n",
      "CONVERGENCE: NORM_OF_PROJECTED_GRADIENT_<=_PGTOL            \n"
     ]
    },
    {
     "name": "stderr",
     "output_type": "stream",
     "text": [
      " This problem is unconstrained.\n",
      " This problem is unconstrained.\n"
     ]
    },
    {
     "name": "stdout",
     "output_type": "stream",
     "text": [
      "RUNNING THE L-BFGS-B CODE\n",
      "\n",
      "           * * *\n",
      "\n",
      "Machine precision = 2.220D-16\n",
      " N =         9762     M =           10\n",
      "\n",
      "At X0         0 variables are exactly at the bounds\n",
      "\n",
      "At iterate    0    f=  6.93147D-01    |proj g|=  2.99286D-01\n",
      "\n",
      "           * * *\n",
      "\n",
      "Tit   = total number of iterations\n",
      "Tnf   = total number of function evaluations\n",
      "Tnint = total number of segments explored during Cauchy searches\n",
      "Skip  = number of BFGS updates skipped\n",
      "Nact  = number of active bounds at final generalized Cauchy point\n",
      "Projg = norm of the final projected gradient\n",
      "F     = final function value\n",
      "\n",
      "           * * *\n",
      "\n",
      "   N    Tit     Tnf  Tnint  Skip  Nact     Projg        F\n",
      " 9762     18     19      1     0     0   6.011D-04   4.197D-01\n",
      "  F =  0.41974223587379245     \n",
      "\n",
      "CONVERGENCE: NORM_OF_PROJECTED_GRADIENT_<=_PGTOL            \n",
      "RUNNING THE L-BFGS-B CODE\n",
      "\n",
      "           * * *\n",
      "\n",
      "Machine precision = 2.220D-16\n",
      " N =         9762     M =           10\n",
      "\n",
      "At X0         0 variables are exactly at the bounds\n",
      "\n",
      "At iterate    0    f=  6.93147D-01    |proj g|=  9.77143D-02\n"
     ]
    },
    {
     "name": "stderr",
     "output_type": "stream",
     "text": [
      " This problem is unconstrained.\n",
      " This problem is unconstrained.\n"
     ]
    },
    {
     "name": "stdout",
     "output_type": "stream",
     "text": [
      "\n",
      "           * * *\n",
      "\n",
      "Tit   = total number of iterations\n",
      "Tnf   = total number of function evaluations\n",
      "Tnint = total number of segments explored during Cauchy searches\n",
      "Skip  = number of BFGS updates skipped\n",
      "Nact  = number of active bounds at final generalized Cauchy point\n",
      "Projg = norm of the final projected gradient\n",
      "F     = final function value\n",
      "\n",
      "           * * *\n",
      "\n",
      "   N    Tit     Tnf  Tnint  Skip  Nact     Projg        F\n",
      " 9762      8     14      1     0     0   8.115D-04   3.862D-01\n",
      "  F =  0.38623632020153814     \n",
      "\n",
      "CONVERGENCE: NORM_OF_PROJECTED_GRADIENT_<=_PGTOL            \n",
      "RUNNING THE L-BFGS-B CODE\n",
      "\n",
      "           * * *\n",
      "\n",
      "Machine precision = 2.220D-16\n",
      " N =         9762     M =           10\n",
      "\n",
      "At X0         0 variables are exactly at the bounds\n",
      "\n",
      "At iterate    0    f=  6.93147D-01    |proj g|=  1.03000D-01\n",
      "\n",
      "           * * *\n",
      "\n",
      "Tit   = total number of iterations\n",
      "Tnf   = total number of function evaluations\n",
      "Tnint = total number of segments explored during Cauchy searches\n",
      "Skip  = number of BFGS updates skipped\n",
      "Nact  = number of active bounds at final generalized Cauchy point\n",
      "Projg = norm of the final projected gradient\n",
      "F     = final function value\n",
      "\n",
      "           * * *\n",
      "\n",
      "   N    Tit     Tnf  Tnint  Skip  Nact     Projg        F\n",
      " 9762     12     18      1     0     0   5.873D-04   4.049D-01\n",
      "  F =  0.40488705884022580     \n",
      "\n",
      "CONVERGENCE: NORM_OF_PROJECTED_GRADIENT_<=_PGTOL            \n",
      "RUNNING THE L-BFGS-B CODE\n",
      "\n",
      "           * * *\n",
      "\n",
      "Machine precision = 2.220D-16\n",
      " N =         9762     M =           10\n",
      "\n",
      "At X0         0 variables are exactly at the bounds\n",
      "\n",
      "At iterate    0    f=  6.93147D-01    |proj g|=  2.99286D-01\n"
     ]
    },
    {
     "name": "stderr",
     "output_type": "stream",
     "text": [
      " This problem is unconstrained.\n",
      " This problem is unconstrained.\n"
     ]
    },
    {
     "name": "stdout",
     "output_type": "stream",
     "text": [
      "\n",
      "           * * *\n",
      "\n",
      "Tit   = total number of iterations\n",
      "Tnf   = total number of function evaluations\n",
      "Tnint = total number of segments explored during Cauchy searches\n",
      "Skip  = number of BFGS updates skipped\n",
      "Nact  = number of active bounds at final generalized Cauchy point\n",
      "Projg = norm of the final projected gradient\n",
      "F     = final function value\n",
      "\n",
      "           * * *\n",
      "\n",
      "   N    Tit     Tnf  Tnint  Skip  Nact     Projg        F\n",
      " 9762     18     19      1     0     0   7.152D-04   4.196D-01\n",
      "  F =  0.41957098288855332     \n",
      "\n",
      "CONVERGENCE: NORM_OF_PROJECTED_GRADIENT_<=_PGTOL            \n",
      "RUNNING THE L-BFGS-B CODE\n",
      "\n",
      "           * * *\n",
      "\n",
      "Machine precision = 2.220D-16\n",
      " N =         9762     M =           10\n",
      "\n",
      "At X0         0 variables are exactly at the bounds\n",
      "\n",
      "At iterate    0    f=  6.93147D-01    |proj g|=  9.77143D-02\n",
      "\n",
      "           * * *\n",
      "\n",
      "Tit   = total number of iterations\n",
      "Tnf   = total number of function evaluations\n",
      "Tnint = total number of segments explored during Cauchy searches\n",
      "Skip  = number of BFGS updates skipped\n",
      "Nact  = number of active bounds at final generalized Cauchy point\n",
      "Projg = norm of the final projected gradient\n",
      "F     = final function value\n",
      "\n",
      "           * * *\n",
      "\n",
      "   N    Tit     Tnf  Tnint  Skip  Nact     Projg        F\n",
      " 9762      8     14      1     0     0   7.703D-04   3.885D-01\n",
      "  F =  0.38854223170886254     \n",
      "\n",
      "CONVERGENCE: NORM_OF_PROJECTED_GRADIENT_<=_PGTOL            \n"
     ]
    },
    {
     "data": {
      "text/plain": [
       "<bound method BaseEstimator.get_params of LogisticRegression(l1_ratio=0.1, multi_class='ovr', n_jobs=1, tol=0.001,\n",
       "                   verbose=1)>"
      ]
     },
     "execution_count": 33,
     "metadata": {},
     "output_type": "execute_result"
    }
   ],
   "source": [
    "log = LogisticRegression(penalty='l2', C=1.0, fit_intercept=True, tol=0.001, solver='lbfgs', max_iter=100, multi_class='ovr',\n",
    "                         verbose=1, n_jobs=1, l1_ratio=0.1)\n",
    "\n",
    "score_vector = cross_val_score(log, Xtrain, ytrain, scoring='f1', cv=5)\n",
    "log.get_params"
   ]
  },
  {
   "cell_type": "code",
   "execution_count": 37,
   "metadata": {},
   "outputs": [
    {
     "name": "stdout",
     "output_type": "stream",
     "text": [
      "0.7246\n"
     ]
    }
   ],
   "source": [
    "final_model = LogisticRegression(penalty='l2', solver=\"lbfgs\", C=1.0, tol=0.001)\n",
    "final_model.fit(Xtrain, ytrain)\n",
    "prediction = final_model.predict(Xtest)\n",
    "\n",
    "scoring = accuracy_score(ytest, prediction)\n",
    "print(scoring)"
   ]
  },
  {
   "cell_type": "code",
   "execution_count": 44,
   "metadata": {},
   "outputs": [],
   "source": [
    "import joblib, pickle\n",
    "\n",
    "with open(\"model.pkl\", \"wb\") as f:\n",
    "    pickle.dump(final_model, f)"
   ]
  }
 ],
 "metadata": {
  "kernelspec": {
   "display_name": "env",
   "language": "python",
   "name": "python3"
  },
  "language_info": {
   "codemirror_mode": {
    "name": "ipython",
    "version": 3
   },
   "file_extension": ".py",
   "mimetype": "text/x-python",
   "name": "python",
   "nbconvert_exporter": "python",
   "pygments_lexer": "ipython3",
   "version": "3.12.3"
  }
 },
 "nbformat": 4,
 "nbformat_minor": 2
}
